{
 "cells": [
  {
   "cell_type": "code",
   "execution_count": null,
   "metadata": {},
   "outputs": [],
   "source": [
    "# // Behind a firewall? Configure your proxy settings here.\n",
    "# //System.setProperty(\"http.proxyHost\",\"myproxy.domain\")\n",
    "# //System.setProperty(\"http.proxyPort\",\"8080\")\n",
    "# //System.setProperty(\"https.proxyHost\",\"myproxy.domain\")\n",
    "# //System.setProperty(\"https.proxyPort\",\"8080\")\n",
    "\n",
    "# // Load the ImageJ library from the remote Maven repository.\n",
    "%classpath config resolver scijava.public https://maven.scijava.org/content/groups/public\n",
    "%classpath add mvn net.imagej imagej 2.0.0-rc-71\n",
    "\n",
    "# // OR: Load ImageJ with Fiji plugins from the remote Maven repository.\n",
    "# //%classpath config resolver scijava.public https://maven.scijava.org/content/groups/public\n",
    "# //%classpath add mvn sc.fiji fiji 2.0.0-pre-10\n",
    "\n",
    "# // OR: Load ImageJ with Fiji plugins from a local Fiji installation.\n",
    "# //%classpath add jar '/Applications/Fiji.app/jars/*'\n",
    "# //%classpath add jar '/Applications/Fiji.app/jars/bio-formats/*'\n",
    "# //%classpath add jar '/Applications/Fiji.app/plugins/*'\n",
    "\n",
    "# //   Create an ImageJ2 gateway:\n",
    "# //       Java Syntax:\n",
    "# // ImageJ ij = new net.imagej.ImageJ();\n",
    "# //             or\n",
    "# //   import net.imagej.Imagej;\n",
    "# //   ImageJ ij = new ImageJ();\n",
    "ij = new net.imagej.ImageJ()\n",
    "\"ImageJ v${ij.getVersion()} is ready to go.\""
   ]
  }
 ],
 "metadata": {
  "language_info": {
   "name": "python"
  },
  "orig_nbformat": 4
 },
 "nbformat": 4,
 "nbformat_minor": 2
}
