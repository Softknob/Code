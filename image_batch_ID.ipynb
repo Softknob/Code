{
 "cells": [
  {
   "attachments": {},
   "cell_type": "markdown",
   "metadata": {},
   "source": [
    "Set up there are a bunch of modules that neewd to be installed prior to running this notebook \n",
    "Download and install Java OpenJDK 8 https://www.azul.com/downloads/zulu-community/?version=java-8-lts&package=jdk-fx\n",
    "\n",
    "Download and install Maven https://maven.apache.org/\n",
    "add the maven bin folder to the system path variable\n",
    "\n",
    "set up a new environment with mamba\n",
    "conda install mamba -n base -c conda-forge\n",
    "mamba create -n pyimagej -c conda-forge pyimagej openjdk=8\n",
    "conda activate pyimagej\n"
   ]
  },
  {
   "attachments": {},
   "cell_type": "markdown",
   "metadata": {},
   "source": [
    "import all the neccesary modules"
   ]
  },
  {
   "cell_type": "code",
   "execution_count": 2,
   "metadata": {},
   "outputs": [],
   "source": [
    "import os"
   ]
  },
  {
   "attachments": {},
   "cell_type": "markdown",
   "metadata": {},
   "source": [
    "Set up paths so apps and files"
   ]
  },
  {
   "cell_type": "code",
   "execution_count": 5,
   "metadata": {},
   "outputs": [],
   "source": [
    "#apps\n",
    "thermal_SDK=r'F:\\IanDennis\\Downloads\\DJI\\dji_thermal_sdk_v1.4_20220929\\utility\\bin\\windows\\release_x64\\dji_irp'\n",
    "exif_tools=r'F:\\IanDennis\\Downloads\\EXIF_Tools\\exiftool'\n",
    "\n",
    "#images\n",
    "image_Folder=r'F:\\IanDennis\\Other\\Thermal\\Images\\Rjpeg'\n",
    "image_out_Folder=r'F:\\IanDennis\\Other\\Thermal\\Images\\Radiometric'"
   ]
  },
  {
   "attachments": {},
   "cell_type": "markdown",
   "metadata": {},
   "source": [
    "convert all Rjpeg to radiometic Raw"
   ]
  },
  {
   "cell_type": "code",
   "execution_count": 8,
   "metadata": {},
   "outputs": [],
   "source": [
    "\n",
    "img_list = os.listdir(image_Folder)\n",
    "\n",
    "for img in img_list:\n",
    "    \n",
    "    cmd = f\"{thermal_SDK} -s {image_Folder}\\{img} -a measure -o {image_out_Folder}\\{img.split('.')[0]}.raw --measurefmt float32\"\n",
    "    os.system(cmd)\n",
    "    "
   ]
  },
  {
   "attachments": {},
   "cell_type": "markdown",
   "metadata": {},
   "source": [
    "convert all Raw files to Tif"
   ]
  },
  {
   "attachments": {},
   "cell_type": "markdown",
   "metadata": {},
   "source": [
    "This is the batch that I ran within imageJ - could not yet automate within python\n",
    "\n",
    "dir1 = \"F:\\\\IanDennis\\\\Other\\\\Thermal\\\\Images\\\\Radiometric\\\\\"; \n",
    "dir2 = \"F:\\\\IanDennis\\\\Other\\\\Thermal\\\\Images\\\\Radiometric\\\\Out\\\\\";\n",
    "list = getFileList(dir1);\n",
    "setBatchMode(true); \n",
    "for (i=0; i<list.length-1; i++) {\n",
    "    run(\"Raw...\", \"open=\"+dir1+list[i]+\" image=[32-bit Real] width=640 height=512 offset=0 number=1 gap=0 little-endian\");\n",
    "    saveAs(\"Tiff\", dir2+list[i]);\n",
    "    close();\n",
    "}"
   ]
  },
  {
   "cell_type": "code",
   "execution_count": null,
   "metadata": {},
   "outputs": [],
   "source": [
    "import imagej\n",
    "# ij = imagej.init(\"2.5.0\")\n",
    "ij = imagej.init()\n",
    "print(f\"ImageJ version: {ij.getVersion()}\")\n",
    "\n",
    "macro = \"\"\"\n",
    "#@ String inDir\n",
    "#@ String outDir\n",
    "\n",
    "#@output Object greeting\n",
    "list = getFileList(inDir);\n",
    "setBatchMode(true); \n",
    "\n",
    "greeting=\"Start\";\n",
    "\n",
    "for (i=0; i<list.length; i++) {\n",
    "    image_url = inDir+list[i];\n",
    "    out_url = outDir+list[i];\n",
    "    run(\"Raw...\", \"open=\"+image_url+\" image=[32-bit Real] width=640 height=512 offset=0 number=1 gap=0 little-endian\");\n",
    "    saveAs(\"Tiff\", out_url);\n",
    "    close();\n",
    "\n",
    "\n",
    "\n",
    "}\n",
    "\n",
    "\"\"\"\n",
    "args = {\n",
    "    'inDir': 'F:\\\\IanDennis\\\\Other\\\\Thermal\\\\Images\\\\Radiometric\\\\Test_raw\\\\',\n",
    "    'outDir': 'F:\\\\IanDennis\\\\Other\\\\Thermal\\\\Images\\\\Radiometric\\\\Test_Out\\\\'\n",
    "}\n",
    "result = ij.py.run_macro(macro, args)\n",
    "print(result.getOutput('greeting'))"
   ]
  },
  {
   "attachments": {},
   "cell_type": "markdown",
   "metadata": {},
   "source": [
    "copy tags from original Jpegs to Tiffs"
   ]
  },
  {
   "cell_type": "code",
   "execution_count": 11,
   "metadata": {},
   "outputs": [],
   "source": [
    "for img in img_list:\n",
    "    \n",
    "    cmd = f\"{exif_tools} -tagsfromfile {image_Folder}\\{img} -all:all {image_out_Folder}\\Out\\{img.split('.')[0]}.tif\"\n",
    "    # print(cmd)\n",
    "    os.system(cmd)"
   ]
  }
 ],
 "metadata": {
  "kernelspec": {
   "display_name": "base",
   "language": "python",
   "name": "python3"
  },
  "language_info": {
   "codemirror_mode": {
    "name": "ipython",
    "version": 3
   },
   "file_extension": ".py",
   "mimetype": "text/x-python",
   "name": "python",
   "nbconvert_exporter": "python",
   "pygments_lexer": "ipython3",
   "version": "3.8.16"
  },
  "orig_nbformat": 4
 },
 "nbformat": 4,
 "nbformat_minor": 2
}
